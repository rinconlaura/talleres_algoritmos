{
  "cells": [
    {
      "cell_type": "markdown",
      "metadata": {
        "id": "uGcX4G1-Toac"
      },
      "source": [
        "# Laboratorio 1"
      ]
    },
    {
      "cell_type": "markdown",
      "metadata": {
        "id": "tEyfy3mwToae"
      },
      "source": [
        "## Desarrollo de una herramienta analítica usando recursos nativos de Python"
      ]
    },
    {
      "cell_type": "markdown",
      "metadata": {
        "id": "2K8-JnclToae"
      },
      "source": [
        "Para el desarrollo de esta actividad debes utilizar únicamente recursos nativos de Python (puedes usar librerías como `math` y `random`). Está prohibido el uso de librerías externas, a excepción de `matplotlib`. Te recomendamos leer por completo el enunciado del laboratorio antes de comenzar, de forma que tengas claro el propósito global de la actividad y puedas desarrollar tu solución apuntando a él desde el inicio."
      ]
    },
    {
      "cell_type": "markdown",
      "metadata": {
        "id": "bUzStCy3Toae"
      },
      "source": [
        "En algunas de las misiones encontrarás: una **versión base**, la cual indica el requerimiento mínimo de la misión; una **versión completa**, la cual indica mejoras deseables o complementos a la **versión base**. Un desarrollo aceptable del laboratorio debe satisfacer la **versión base** y un desarrollo correcto del laboratorio debe satisfacer la **versión completa**. Cumplir con el desarrollo de la **versión completa** desde un inicio hará más sencillas las misiones siguientes."
      ]
    },
    {
      "cell_type": "markdown",
      "metadata": {
        "id": "hu_-mfKnToaf"
      },
      "source": [
        "Al desarrollar este laboratorio pondrás a prueba tus habilidades para:\n",
        "\n",
        "1. Identificar y abordar preguntas de negocio y de *analytics*.\n",
        "2. Leer datos desde archivos y almacenarlos en estructuras de Python.\n",
        "3. Crear y llamar funciones.\n",
        "4. Implementar condicionales diferenciando `if`, `elif` y `else`.\n",
        "5. Implementar ciclos diferenciando el propósito de `for` y `while`."
      ]
    },
    {
      "cell_type": "markdown",
      "metadata": {
        "id": "lO_KXF8IToaf"
      },
      "source": [
        "## Contexto: exploración del potencial para asignar becas Unialpes"
      ]
    },
    {
      "cell_type": "markdown",
      "metadata": {
        "id": "_-R7-swQToaf"
      },
      "source": [
        "La Universidad ean se ha caracterizado por su compromiso con la generación de impacto en la sociedad a través de diferentes programas de becas. Programas como Becas para los Mejores, entre otros, han sido revolucionarios al permitir que estudiantes de bajos recursos puedan acceder a una de las universidades más prestigiosas del país."
      ]
    },
    {
      "cell_type": "markdown",
      "metadata": {
        "id": "_OeqNMyyToag"
      },
      "source": [
        "Actualmente, la universidad quiere evaluar el potencial impacto que tendrían algunos programas de acción afirmativa para asignación de becas, con base en información demográfica que ha obtenido a través de encuestas a personas interesadas en becas. Se cuenta con información respecto a la edad, género, estado civil, estrato socioeconómico, región de proveniencia, desempeño académico y nivel de escolaridad de las personas encuestadas. Los encargados de diseñar el programa saben que utilizar criterios basados en este tipo de variables es un tema sensible, pero es necesario si se quieren focalizar las oportunidades en poblaciones menos representadas."
      ]
    },
    {
      "cell_type": "markdown",
      "metadata": {
        "id": "AFazkfMnToag"
      },
      "source": [
        "El objetivo de este laboratorio es crear una herramienta computacional que permita a un tomador de decisiones explorar qué efecto podría tener el uso de diferentes reglas para seleccionar a los beneficiarios de las becas. Puntualmente, se espera que, para distintas reglas de selección (ej., pertenecer a cierta región, rango de edad, etc.), la herramienta ofrezca una caracterización de los potenciales beneficiarios de las becas (a partir de estadísticas descriptivas y visualizaciones), de forma que exista un sustento para elegir la regla de selección adecuada."
      ]
    },
    {
      "cell_type": "markdown",
      "metadata": {
        "id": "jeo0sirSToag"
      },
      "source": [
        "## Fase 1: obtener e inspeccionar archivos"
      ]
    },
    {
      "cell_type": "markdown",
      "metadata": {
        "id": "mAphWHe1Toag"
      },
      "source": [
        "Los datos de encuestas fueron obtenidos como parte de un trabajo de campo y, por limitaciones tecnológicas, solo se cuenta con la información en archivos de texto plano (`.txt`). Cada archivo corresponde a uno de los atributos antes mencionados y están estructurados de forma que todos relacionan a las personas encuestadas en el mismo orden (i.e., en cada archivo la primera línea corresponde a un dato de la primera persona encuestada, la segunda línea corresponde a un dato de la segunda persona encuestada, etc.)."
      ]
    },
    {
      "cell_type": "markdown",
      "metadata": {
        "id": "yNNrq_BWToah"
      },
      "source": [
        "Los archivos con los que cuentas son:\n",
        "\n",
        "* `\"edad.txt\"`: un archivo con la edad de cada persona encuestada;\n",
        "* `\"escolaridad.txt\"`: un archivo con el nivel de escolaridad de cada persona encuestada;\n",
        "* `\"estado_civil.txt\"`: un archivo con el estado civil de cada persona encuestada;\n",
        "* `\"estrato.txt\"`: un archivo con el estrato socioeconómico de cada persona encuestada;\n",
        "* `\"genero.txt\"`: un archivo con el género de cada persona encuestada;\n",
        "* `\"promedio.txt\"`: un archivo con el promedio académico de cada persona encuestada;\n",
        "* `\"region.txt\"`: un archivo con la región de proveniencia de cada persona encuestada."
      ]
    },
    {
      "cell_type": "markdown",
      "metadata": {
        "id": "ILbiTaXGToah"
      },
      "source": [
        "### Misión 1"
      ]
    },
    {
      "cell_type": "markdown",
      "metadata": {
        "id": "IqsD8faeToah"
      },
      "source": [
        "**Versión base**: utiliza métodos de lectura de archivos para guardar la información de cada archivo en una estructura de datos de Python, de manera que se respete el orden y la categoría de los datos."
      ]
    },
    {
      "cell_type": "markdown",
      "metadata": {
        "id": "-TheYgoLToah"
      },
      "source": [
        "**Versión completa**: escribe una función que sea capaz de ejecutar la **versión base** y llámala dentro de un ciclo para automatizar la lectura de los archivos."
      ]
    },
    {
      "cell_type": "code",
      "execution_count": 1,
      "metadata": {
        "colab": {
          "base_uri": "https://localhost:8080/"
        },
        "id": "n9KocW6QToah",
        "outputId": "92d58f73-a72b-4257-d860-d484bdbada72"
      },
      "outputs": [
        {
          "output_type": "stream",
          "name": "stdout",
          "text": [
            "('66', 'Profesional', 'divorciada', '1', 'masculino', '0.9', 'Region_1')\n",
            "('24', 'Secundaria', 'divorciada', '3', 'femenino', '3.2', 'Region_2')\n",
            "('55', 'Secundaria', 'casada', '3', 'masculino', '2.1', 'Region_2')\n",
            "('26', 'Secundaria', 'divorciada', '2', 'otro', '2.1', 'Region_3')\n",
            "('69', 'Secundaria', 'divorciada', '3', 'no binario', '2.0', 'Region_4')\n",
            "('79', 'Secundaria', 'casada', '4', 'masculino', '2.7', 'Region_5')\n",
            "('54', 'Secundaria', 'casada', '2', 'femenino', '4.9', 'Region_1')\n",
            "('51', 'Secundaria', 'soltera', '2', 'femenino', '2.1', 'Region_4')\n",
            "('80', 'Profesional', 'soltera', '3', 'masculino', '4.5', 'Region_1')\n",
            "('30', 'Secundaria', 'soltera', '2', 'femenino', '3.0', 'Region_4')\n",
            "('64', 'Primaria', 'casada', '2', 'femenino', '3.0', 'Region_2')\n",
            "('40', 'Secundaria', 'casada', '2', 'femenino', '3.5', 'Region_4')\n",
            "('53', 'Secundaria', 'casada', '3', 'femenino', '1.8', 'Region_2')\n",
            "('47', 'Secundaria', 'divorciada', '1', 'no binario', '1.2', 'Region_2')\n",
            "('24', 'Secundaria', 'divorciada', '1', 'femenino', '0.1', 'Region_2')\n",
            "('76', 'Secundaria', 'casada', '3', 'masculino', '1.0', 'Region_4')\n",
            "('65', 'Secundaria', 'divorciada', '2', 'femenino', '3.9', 'Region_4')\n",
            "('38', 'Secundaria', 'soltera', '3', 'masculino', '2.9', 'Region_1')\n",
            "('37', 'Profesional', 'casada', '2', 'masculino', '3.0', 'Region_1')\n",
            "('71', 'Secundaria', 'soltera', '3', 'femenino', '3.0', 'Region_2')\n",
            "('51', 'Secundaria', 'soltera', '1', 'femenino', '3.0', 'Region_2')\n",
            "('51', 'Secundaria', 'casada', '2', 'no binario', '4.3', 'Region_4')\n",
            "('33', 'Secundaria', 'casada', '2', 'masculino', '2.3', 'Region_4')\n",
            "('24', 'Profesional', 'casada', '3', 'femenino', '2.6', 'Region_1')\n",
            "('71', 'Secundaria', 'divorciada', '1', 'masculino', '2.3', 'Region_4')\n",
            "('78', 'Secundaria', 'soltera', '3', 'femenino', '3.0', 'Region_1')\n",
            "('75', 'Secundaria', 'soltera', '3', 'femenino', '2.8', 'Region_4')\n",
            "('38', 'Secundaria', 'soltera', '3', 'femenino', '1.0', 'Region_4')\n",
            "('49', 'Secundaria', 'divorciada', '1', 'femenino', '2.9', 'Region_1')\n",
            "('49', 'Secundaria', 'casada', '1', 'femenino', '3.7', 'Region_4')\n",
            "('53', 'Secundaria', 'divorciada', '2', 'no binario', '3.2', 'Region_4')\n",
            "('62', 'Secundaria', 'casada', '2', 'masculino', '3.3', 'Region_4')\n",
            "('26', 'Secundaria', 'casada', '2', 'masculino', '3.9', 'Region_1')\n",
            "('67', 'Secundaria', 'casada', '2', 'no binario', '2.6', 'Region_1')\n",
            "('68', 'Profesional', 'divorciada', '2', 'masculino', '2.4', 'Region_2')\n",
            "('70', 'Secundaria', 'divorciada', '2', 'femenino', '3.9', 'Region_4')\n",
            "('57', 'Primaria', 'divorciada', '2', 'femenino', '1.8', 'Region_4')\n",
            "('47', 'Secundaria', 'casada', '5', 'femenino', '3.3', 'Region_4')\n",
            "('30', 'Maestria', 'soltera', '1', 'masculino', '2.1', 'Region_3')\n",
            "('44', 'Secundaria', 'divorciada', '2', 'masculino', '1.9', 'Region_2')\n",
            "('22', 'Secundaria', 'soltera', '2', 'masculino', '1.7', 'Region_2')\n",
            "('30', 'Secundaria', 'divorciada', '3', 'masculino', '2.5', 'Region_4')\n",
            "('64', 'Secundaria', 'soltera', '2', 'masculino', '2.9', 'Region_2')\n",
            "('21', 'Secundaria', 'soltera', '2', 'femenino', '1.5', 'Region_3')\n",
            "('54', 'Secundaria', 'casada', '3', 'femenino', '4.1', 'Region_1')\n",
            "('35', 'Secundaria', 'casada', '2', 'no binario', '0.9', 'Region_1')\n",
            "('52', 'Secundaria', 'divorciada', '2', 'femenino', '3.0', 'Region_4')\n",
            "('27', 'Secundaria', 'casada', '2', 'femenino', '2.3', 'Region_4')\n",
            "('20', 'Secundaria', 'soltera', '3', 'masculino', '4.5', 'Region_5')\n",
            "('59', 'Secundaria', 'soltera', '3', 'femenino', '2.8', 'Region_3')\n",
            "('40', 'Profesional', 'casada', '2', 'femenino', '3.8', 'Region_4')\n",
            "('23', 'Profesional', 'soltera', '3', 'masculino', '3.3', 'Region_2')\n",
            "('58', 'Secundaria', 'casada', '4', 'femenino', '3.9', 'Region_4')\n",
            "('71', 'Secundaria', 'viuda', '2', 'masculino', '3.0', 'Region_2')\n",
            "('77', 'Secundaria', 'divorciada', '3', 'masculino', '2.7', 'Region_2')\n",
            "('70', 'Profesional', 'viuda', '1', 'femenino', '2.4', 'Region_4')\n",
            "('31', 'Secundaria', 'casada', '2', 'femenino', '1.1', 'Region_4')\n",
            "('19', 'Secundaria', 'divorciada', '1', 'masculino', '2.6', 'Region_3')\n",
            "('31', 'Secundaria', 'divorciada', '2', 'masculino', '3.1', 'Region_4')\n",
            "('75', 'Primaria', 'casada', '3', 'femenino', '4.9', 'Region_4')\n",
            "('63', 'Profesional', 'soltera', '1', 'masculino', '3.1', 'Region_1')\n",
            "('79', 'Secundaria', 'soltera', '2', 'femenino', '3.0', 'Region_1')\n",
            "('67', 'Profesional', 'divorciada', '1', 'masculino', '2.1', 'Region_1')\n",
            "('46', 'Secundaria', 'casada', '3', 'femenino', '2.2', 'Region_2')\n",
            "('79', 'Secundaria', 'casada', '2', 'femenino', '2.3', 'Region_3')\n",
            "('30', 'Secundaria', 'divorciada', '2', 'no binario', '3.3', 'Region_2')\n",
            "('19', 'Secundaria', 'divorciada', '3', 'masculino', '0.8', 'Region_2')\n",
            "('64', 'Secundaria', 'divorciada', '2', 'femenino', '1.7', 'Region_2')\n",
            "('52', 'Secundaria', 'soltera', '2', 'femenino', '3.9', 'Region_2')\n",
            "('79', 'Secundaria', 'casada', '2', 'femenino', '4.3', 'Region_4')\n",
            "('35', 'Secundaria', 'divorciada', '3', 'masculino', '2.1', 'Region_4')\n",
            "('74', 'Secundaria', 'soltera', '2', 'masculino', '1.5', 'Region_4')\n",
            "('18', 'Secundaria', 'casada', '2', 'femenino', '2.1', 'Region_3')\n",
            "('22', 'Profesional', 'casada', '3', 'femenino', '4.0', 'Region_1')\n",
            "('58', 'Profesional', 'divorciada', '1', 'femenino', '3.1', 'Region_1')\n",
            "('77', 'Secundaria', 'soltera', '3', 'masculino', '2.9', 'Region_2')\n",
            "('22', 'Profesional', 'divorciada', '1', 'no binario', '0.0', 'Region_4')\n",
            "('73', 'Secundaria', 'casada', '2', 'no binario', '2.5', 'Region_4')\n",
            "('59', 'Secundaria', 'casada', '3', 'masculino', '4.0', 'Region_2')\n",
            "('18', 'Profesional', 'divorciada', '4', 'femenino', '2.3', 'Region_4')\n",
            "('46', 'Secundaria', 'soltera', '2', 'no binario', '3.3', 'Region_2')\n",
            "('35', 'Secundaria', 'divorciada', '2', 'femenino', '3.5', 'Region_4')\n",
            "('38', 'Maestria', 'divorciada', '1', 'masculino', '1.2', 'Region_5')\n",
            "('80', 'Secundaria', 'divorciada', '2', 'femenino', '3.0', 'Region_4')\n",
            "('65', 'Secundaria', 'casada', '2', 'masculino', '3.4', 'Region_4')\n",
            "('41', 'Profesional', 'casada', '1', 'masculino', '2.7', 'Region_4')\n",
            "('46', 'Profesional', 'casada', '4', 'masculino', '0.0', 'Region_4')\n",
            "('36', 'Secundaria', 'casada', '3', 'no binario', '2.1', 'Region_4')\n",
            "('46', 'Secundaria', 'divorciada', '1', 'no binario', '2.2', 'Region_4')\n",
            "('56', 'Secundaria', 'divorciada', '3', 'masculino', '3.4', 'Region_4')\n",
            "('37', 'Secundaria', 'casada', '2', 'femenino', '2.6', 'Region_1')\n",
            "('67', 'Secundaria', 'soltera', '1', 'femenino', '3.8', 'Region_1')\n",
            "('20', 'Profesional', 'casada', '1', 'femenino', '1.8', 'Region_1')\n",
            "('46', 'Secundaria', 'casada', '3', 'femenino', '2.0', 'Region_1')\n",
            "('62', 'Secundaria', 'casada', '1', 'femenino', '2.4', 'Region_2')\n",
            "('70', 'Profesional', 'divorciada', '2', 'no binario', '4.0', 'Region_4')\n",
            "('31', 'Profesional', 'casada', '4', 'femenino', '1.9', 'Region_5')\n",
            "('20', 'Profesional', 'casada', '2', 'masculino', '1.8', 'Region_3')\n",
            "('64', 'Secundaria', 'viuda', '5', 'femenino', '3.4', 'Region_3')\n",
            "('78', 'Secundaria', 'soltera', '1', 'femenino', '2.6', 'Region_1')\n",
            "('66', 'Secundaria', 'casada', '2', 'masculino', '3.0', 'Region_2')\n",
            "('45', 'Profesional', 'casada', '1', 'masculino', '3.1', 'Region_5')\n",
            "('43', 'Maestria', 'casada', '3', 'masculino', '3.1', 'Region_2')\n",
            "('70', 'Profesional', 'soltera', '1', 'no binario', '3.5', 'Region_4')\n",
            "('43', 'Secundaria', 'casada', '2', 'femenino', '2.1', 'Region_4')\n",
            "('24', 'Primaria', 'casada', '1', 'masculino', '2.2', 'Region_2')\n",
            "('58', 'Secundaria', 'divorciada', '1', 'femenino', '3.7', 'Region_2')\n",
            "('62', 'Profesional', 'viuda', '1', 'femenino', '4.1', 'Region_4')\n",
            "('60', 'Profesional', 'soltera', '3', 'femenino', '4.7', 'Region_2')\n",
            "('80', 'Primaria', 'soltera', '2', 'femenino', '3.6', 'Region_1')\n",
            "('73', 'Secundaria', 'divorciada', '1', 'masculino', '3.6', 'Region_1')\n",
            "('73', 'Secundaria', 'divorciada', '3', 'femenino', '1.4', 'Region_1')\n",
            "('57', 'Profesional', 'divorciada', '2', 'femenino', '3.9', 'Region_3')\n",
            "('42', 'Profesional', 'casada', '4', 'femenino', '1.4', 'Region_4')\n",
            "('51', 'Profesional', 'divorciada', '2', 'femenino', '3.8', 'Region_1')\n",
            "('52', 'Secundaria', 'casada', '2', 'femenino', '1.6', 'Region_1')\n",
            "('58', 'Secundaria', 'divorciada', '3', 'femenino', '1.7', 'Region_3')\n",
            "('39', 'Maestria', 'casada', '2', 'femenino', '1.8', 'Region_4')\n",
            "('43', 'Secundaria', 'soltera', '1', 'masculino', '3.0', 'Region_4')\n",
            "('66', 'Profesional', 'casada', '3', 'femenino', '3.6', 'Region_4')\n",
            "('32', 'Secundaria', 'soltera', '3', 'femenino', '2.1', 'Region_2')\n",
            "('49', 'Secundaria', 'casada', '4', 'masculino', '2.2', 'Region_4')\n",
            "('44', 'Profesional', 'divorciada', '2', 'femenino', '3.7', 'Region_4')\n",
            "('57', 'Secundaria', 'soltera', '3', 'femenino', '2.7', 'Region_4')\n",
            "('39', 'Secundaria', 'divorciada', '3', 'femenino', '2.5', 'Region_4')\n",
            "('21', 'Secundaria', 'divorciada', '3', 'masculino', '1.3', 'Region_3')\n",
            "('27', 'Profesional', 'casada', '3', 'femenino', '1.2', 'Region_4')\n",
            "('31', 'Secundaria', 'soltera', '1', 'femenino', '2.1', 'Region_4')\n",
            "('28', 'Secundaria', 'divorciada', '4', 'masculino', '1.3', 'Region_3')\n",
            "('44', 'Profesional', 'casada', '3', 'masculino', '3.2', 'Region_1')\n",
            "('80', 'Secundaria', 'viuda', '1', 'femenino', '1.5', 'Region_2')\n",
            "('71', 'Secundaria', 'divorciada', '2', 'masculino', '2.6', 'Region_4')\n",
            "('33', 'Profesional', 'casada', '1', 'femenino', '1.2', 'Region_2')\n",
            "('22', 'Secundaria', 'soltera', '3', 'femenino', '4.2', 'Region_1')\n",
            "('78', 'Secundaria', 'divorciada', '3', 'femenino', '1.9', 'Region_4')\n",
            "('60', 'Secundaria', 'soltera', '2', 'otro', '3.6', 'Region_4')\n",
            "('70', 'Profesional', 'divorciada', '2', 'femenino', '4.8', 'Region_1')\n",
            "('62', 'Secundaria', 'divorciada', '3', 'masculino', '4.0', 'Region_3')\n",
            "('45', 'Secundaria', 'casada', '2', 'femenino', '2.8', 'Region_4')\n",
            "('78', 'Secundaria', 'soltera', '1', 'masculino', '3.6', 'Region_1')\n",
            "('78', 'Profesional', 'soltera', '2', 'femenino', '1.3', 'Region_4')\n",
            "('42', 'Secundaria', 'divorciada', '4', 'femenino', '2.2', 'Region_4')\n",
            "('21', 'Profesional', 'soltera', '3', 'femenino', '1.8', 'Region_4')\n",
            "('44', 'Primaria', 'soltera', '3', 'femenino', '2.4', 'Region_1')\n",
            "('38', 'Secundaria', 'casada', '3', 'femenino', '4.0', 'Region_4')\n",
            "('19', 'Profesional', 'divorciada', '2', 'femenino', '3.5', 'Region_1')\n",
            "('31', 'Secundaria', 'divorciada', '3', 'femenino', '3.4', 'Region_1')\n",
            "('58', 'Secundaria', 'casada', '2', 'femenino', '3.0', 'Region_1')\n",
            "('69', 'Profesional', 'casada', '3', 'masculino', '3.8', 'Region_1')\n",
            "('34', 'Profesional', 'soltera', '2', 'femenino', '0.2', 'Region_1')\n",
            "('69', 'Secundaria', 'casada', '2', 'masculino', '3.4', 'Region_2')\n",
            "('80', 'Primaria', 'divorciada', '3', 'femenino', '3.5', 'Region_1')\n",
            "('20', 'Secundaria', 'casada', '4', 'femenino', '2.9', 'Region_3')\n",
            "('59', 'Primaria', 'divorciada', '2', 'femenino', '2.0', 'Region_1')\n",
            "('29', 'Secundaria', 'soltera', '3', 'femenino', '1.7', 'Region_4')\n",
            "('33', 'Secundaria', 'soltera', '2', 'femenino', '2.5', 'Region_4')\n",
            "('29', 'Secundaria', 'casada', '1', 'femenino', '2.3', 'Region_4')\n",
            "('44', 'Profesional', 'casada', '2', 'masculino', '1.2', 'Region_2')\n",
            "('55', 'Profesional', 'soltera', '3', 'masculino', '4.6', 'Region_4')\n",
            "('47', 'Secundaria', 'soltera', '2', 'femenino', '2.3', 'Region_2')\n",
            "('26', 'Secundaria', 'casada', '3', 'masculino', '4.4', 'Region_2')\n",
            "('47', 'Secundaria', 'casada', '1', 'masculino', '4.9', 'Region_1')\n",
            "('20', 'Profesional', 'viuda', '1', 'masculino', '3.7', 'Region_1')\n",
            "('43', 'Secundaria', 'soltera', '2', 'otro', '0.1', 'Region_4')\n",
            "('27', 'Secundaria', 'soltera', '1', 'femenino', '3.0', 'Region_2')\n",
            "('29', 'Secundaria', 'casada', '1', 'no binario', '2.0', 'Region_2')\n",
            "('21', 'Secundaria', 'casada', '1', 'femenino', '1.5', 'Region_2')\n",
            "('70', 'Secundaria', 'soltera', '4', 'femenino', '3.6', 'Region_4')\n",
            "('69', 'Secundaria', 'divorciada', '2', 'masculino', '3.8', 'Region_4')\n",
            "('45', 'Secundaria', 'soltera', '2', 'masculino', '2.4', 'Region_1')\n",
            "('69', 'Secundaria', 'soltera', '2', 'femenino', '1.6', 'Region_4')\n",
            "('34', 'Secundaria', 'divorciada', '2', 'femenino', '2.8', 'Region_2')\n",
            "('28', 'Maestria', 'divorciada', '3', 'femenino', '3.4', 'Region_2')\n",
            "('50', 'Secundaria', 'viuda', '3', 'masculino', '3.1', 'Region_4')\n",
            "('79', 'Secundaria', 'casada', '1', 'masculino', '3.8', 'Region_1')\n",
            "('29', 'Secundaria', 'casada', '2', 'masculino', '3.0', 'Region_2')\n",
            "('53', 'Profesional', 'soltera', '2', 'femenino', '2.9', 'Region_4')\n",
            "('36', 'Secundaria', 'divorciada', '2', 'no binario', '1.5', 'Region_2')\n",
            "('39', 'Secundaria', 'soltera', '3', 'no binario', '3.6', 'Region_2')\n",
            "('57', 'Secundaria', 'casada', '1', 'masculino', '2.3', 'Region_4')\n",
            "('62', 'Secundaria', 'soltera', '4', 'femenino', '3.0', 'Region_4')\n",
            "('42', 'Profesional', 'casada', '2', 'femenino', '3.0', 'Region_1')\n",
            "('51', 'Secundaria', 'casada', '3', 'femenino', '1.3', 'Region_1')\n",
            "('57', 'Secundaria', 'casada', '1', 'masculino', '1.1', 'Region_2')\n",
            "('67', 'Secundaria', 'casada', '3', 'masculino', '3.3', 'Region_1')\n",
            "('52', 'Secundaria', 'divorciada', '2', 'masculino', '2.4', 'Region_1')\n",
            "('58', 'Secundaria', 'divorciada', '2', 'femenino', '3.1', 'Region_4')\n",
            "('36', 'Primaria', 'casada', '3', 'masculino', '3.9', 'Region_2')\n",
            "('27', 'Secundaria', 'soltera', '2', 'femenino', '2.8', 'Region_3')\n",
            "('70', 'Profesional', 'casada', '3', 'masculino', '3.1', 'Region_4')\n",
            "('21', 'Secundaria', 'soltera', '2', 'femenino', '3.0', 'Region_2')\n",
            "('55', 'Secundaria', 'casada', '3', 'femenino', '1.3', 'Region_2')\n",
            "('50', 'Secundaria', 'casada', '1', 'femenino', '3.9', 'Region_4')\n",
            "('46', 'Secundaria', 'casada', '2', 'masculino', '3.8', 'Region_3')\n",
            "('75', 'Secundaria', 'casada', '4', 'otro', '3.1', 'Region_5')\n",
            "('54', 'Profesional', 'soltera', '5', 'masculino', '2.4', 'Region_4')\n",
            "('80', 'Secundaria', 'soltera', '1', 'femenino', '2.2', 'Region_4')\n",
            "('61', 'Maestria', 'casada', '3', 'masculino', '2.4', 'Region_3')\n",
            "('78', 'Secundaria', 'casada', '2', 'masculino', '2.4', 'Region_4')\n",
            "('21', 'Secundaria', 'soltera', '2', 'femenino', '0.9', 'Region_2')\n",
            "('76', 'Profesional', 'casada', '1', 'masculino', '3.4', 'Region_1')\n",
            "('61', 'Secundaria', 'divorciada', '3', 'masculino', '3.7', 'Region_4')\n",
            "('67', 'Secundaria', 'casada', '2', 'masculino', '2.8', 'Region_1')\n",
            "('66', 'Profesional', 'casada', '3', 'femenino', '2.5', 'Region_4')\n",
            "('27', 'Profesional', 'divorciada', '3', 'masculino', '2.1', 'Region_3')\n",
            "('74', 'Profesional', 'casada', '4', 'femenino', '2.3', 'Region_1')\n",
            "('21', 'Profesional', 'casada', '2', 'femenino', '4.9', 'Region_1')\n",
            "('21', 'Profesional', 'casada', '2', 'femenino', '1.3', 'Region_4')\n",
            "('55', 'Secundaria', 'casada', '1', 'femenino', '2.5', 'Region_1')\n",
            "('45', 'Profesional', 'casada', '3', 'femenino', '3.6', 'Region_1')\n",
            "('21', 'Profesional', 'casada', '2', 'masculino', '0.2', 'Region_4')\n",
            "('22', 'Maestria', 'casada', '2', 'masculino', '3.0', 'Region_1')\n",
            "('30', 'Secundaria', 'divorciada', '1', 'femenino', '4.1', 'Region_4')\n",
            "('64', 'Secundaria', 'casada', '1', 'masculino', '3.2', 'Region_3')\n",
            "('78', 'Secundaria', 'soltera', '3', 'masculino', '2.3', 'Region_4')\n",
            "('52', 'Maestria', 'soltera', '1', 'femenino', '2.7', 'Region_2')\n",
            "('61', 'Secundaria', 'divorciada', '1', 'femenino', '2.6', 'Region_2')\n",
            "('19', 'Secundaria', 'casada', '2', 'femenino', '2.9', 'Region_4')\n",
            "('53', 'Secundaria', 'casada', '3', 'masculino', '1.8', 'Region_4')\n",
            "('43', 'Secundaria', 'divorciada', '4', 'femenino', '2.9', 'Region_5')\n",
            "('66', 'Profesional', 'divorciada', '2', 'masculino', '2.0', 'Region_3')\n",
            "('34', 'Profesional', 'soltera', '2', 'masculino', '4.4', 'Region_1')\n",
            "('43', 'Secundaria', 'soltera', '2', 'femenino', '2.4', 'Region_4')\n",
            "('70', 'Secundaria', 'soltera', '3', 'femenino', '3.3', 'Region_1')\n",
            "('27', 'Profesional', 'divorciada', '2', 'femenino', '1.0', 'Region_4')\n",
            "('53', 'Profesional', 'divorciada', '3', 'femenino', '2.1', 'Region_4')\n",
            "('40', 'Secundaria', 'casada', '3', 'no binario', '2.1', 'Region_1')\n",
            "('32', 'Secundaria', 'casada', '3', 'femenino', '3.0', 'Region_3')\n",
            "('33', 'Secundaria', 'soltera', '2', 'femenino', '2.4', 'Region_4')\n",
            "('63', 'Profesional', 'soltera', '1', 'femenino', '3.0', 'Region_1')\n",
            "('69', 'Secundaria', 'divorciada', '3', 'no binario', '1.3', 'Region_2')\n",
            "('22', 'Profesional', 'divorciada', '1', 'femenino', '1.4', 'Region_4')\n",
            "('58', 'Secundaria', 'soltera', '3', 'masculino', '3.2', 'Region_1')\n",
            "('23', 'Secundaria', 'soltera', '1', 'femenino', '3.3', 'Region_2')\n",
            "('44', 'Profesional', 'viuda', '3', 'femenino', '2.5', 'Region_4')\n",
            "('65', 'Secundaria', 'soltera', '3', 'femenino', '2.6', 'Region_1')\n",
            "('20', 'Secundaria', 'divorciada', '2', 'femenino', '1.6', 'Region_4')\n",
            "('39', 'Secundaria', 'casada', '2', 'masculino', '1.1', 'Region_4')\n",
            "('54', 'Secundaria', 'casada', '1', 'femenino', '2.4', 'Region_4')\n",
            "('24', 'Secundaria', 'casada', '2', 'masculino', '3.8', 'Region_2')\n",
            "('54', 'Secundaria', 'divorciada', '3', 'no binario', '0.5', 'Region_5')\n",
            "('50', 'Profesional', 'casada', '5', 'femenino', '3.3', 'Region_4')\n",
            "('59', 'Secundaria', 'divorciada', '2', 'femenino', '5.0', 'Region_4')\n",
            "('20', 'Secundaria', 'divorciada', '1', 'masculino', '2.1', 'Region_1')\n",
            "('19', 'Secundaria', 'soltera', '2', 'femenino', '2.0', 'Region_4')\n",
            "('19', 'Secundaria', 'casada', '2', 'masculino', '0.5', 'Region_2')\n",
            "('36', 'Secundaria', 'soltera', '3', 'masculino', '3.4', 'Region_1')\n",
            "('48', 'Secundaria', 'divorciada', '1', 'masculino', '3.5', 'Region_2')\n",
            "('59', 'Primaria', 'casada', '3', 'masculino', '0.3', 'Region_1')\n",
            "('25', 'Secundaria', 'divorciada', '1', 'femenino', '4.0', 'Region_2')\n",
            "('74', 'Secundaria', 'soltera', '4', 'masculino', '0.4', 'Region_2')\n",
            "('36', 'Profesional', 'divorciada', '2', 'femenino', '3.5', 'Region_2')\n",
            "('57', 'Secundaria', 'soltera', '1', 'masculino', '4.0', 'Region_2')\n",
            "('66', 'Secundaria', 'divorciada', '3', 'masculino', '3.5', 'Region_4')\n",
            "('60', 'Secundaria', 'divorciada', '2', 'femenino', '1.4', 'Region_4')\n",
            "('56', 'Secundaria', 'casada', '3', 'femenino', '4.2', 'Region_4')\n",
            "('48', 'Secundaria', 'divorciada', '3', 'femenino', '1.1', 'Region_2')\n",
            "('68', 'Secundaria', 'casada', '3', 'masculino', '2.0', 'Region_1')\n",
            "('60', 'Secundaria', 'soltera', '5', 'no binario', '4.8', 'Region_1')\n",
            "('50', 'Secundaria', 'soltera', '2', 'no binario', '0.8', 'Region_1')\n",
            "('30', 'Secundaria', 'divorciada', '2', 'femenino', '2.5', 'Region_3')\n",
            "('36', 'Secundaria', 'casada', '2', 'femenino', '4.2', 'Region_2')\n",
            "('78', 'Profesional', 'divorciada', '2', 'masculino', '1.9', 'Region_4')\n",
            "('75', 'Secundaria', 'divorciada', '2', 'masculino', '0.9', 'Region_1')\n",
            "('36', 'Profesional', 'casada', '1', 'masculino', '3.0', 'Region_4')\n",
            "('80', 'Secundaria', 'soltera', '3', 'masculino', '3.2', 'Region_1')\n",
            "('48', 'Secundaria', 'casada', '3', 'femenino', '1.0', 'Region_2')\n",
            "('74', 'Secundaria', 'soltera', '3', 'femenino', '1.9', 'Region_1')\n",
            "('47', 'Secundaria', 'soltera', '1', 'masculino', '2.6', 'Region_4')\n",
            "('40', 'Secundaria', 'divorciada', '2', 'masculino', '3.3', 'Region_2')\n",
            "('71', 'Secundaria', 'soltera', '4', 'femenino', '2.3', 'Region_1')\n",
            "('57', 'Secundaria', 'divorciada', '2', 'masculino', '3.0', 'Region_4')\n",
            "('46', 'Secundaria', 'soltera', '3', 'femenino', '3.0', 'Region_1')\n",
            "('77', 'Secundaria', 'soltera', '2', 'masculino', '2.0', 'Region_4')\n",
            "('29', 'Secundaria', 'divorciada', '3', 'masculino', '1.0', 'Region_1')\n",
            "('77', 'Secundaria', 'divorciada', '2', 'masculino', '1.5', 'Region_4')\n",
            "('65', 'Secundaria', 'viuda', '4', 'masculino', '2.0', 'Region_3')\n",
            "('35', 'Secundaria', 'casada', '3', 'femenino', '2.9', 'Region_2')\n",
            "('29', 'Profesional', 'soltera', '1', 'masculino', '0.7', 'Region_4')\n",
            "('36', 'Secundaria', 'soltera', '2', 'femenino', '1.2', 'Region_5')\n",
            "('53', 'Secundaria', 'casada', '1', 'masculino', '4.0', 'Region_1')\n",
            "('22', 'Secundaria', 'soltera', '4', 'femenino', '1.9', 'Region_1')\n",
            "('28', 'Secundaria', 'divorciada', '1', 'no binario', '4.8', 'Region_1')\n",
            "('61', 'Secundaria', 'divorciada', '3', 'femenino', '1.4', 'Region_4')\n",
            "('40', 'Secundaria', 'casada', '4', 'no binario', '2.7', 'Region_1')\n",
            "('57', 'Primaria', 'soltera', '1', 'femenino', '2.7', 'Region_3')\n",
            "('20', 'Secundaria', 'soltera', '1', 'femenino', '4.3', 'Region_2')\n",
            "('43', 'Secundaria', 'soltera', '1', 'femenino', '0.6', 'Region_1')\n",
            "('54', 'Secundaria', 'casada', '1', 'masculino', '4.0', 'Region_2')\n",
            "('54', 'Profesional', 'casada', '1', 'masculino', '1.1', 'Region_2')\n",
            "('18', 'Profesional', 'casada', '3', 'masculino', '3.7', 'Region_4')\n",
            "('75', 'Secundaria', 'divorciada', '3', 'femenino', '2.3', 'Region_4')\n",
            "('45', 'Secundaria', 'divorciada', '3', 'femenino', '2.1', 'Region_4')\n",
            "('39', 'Primaria', 'divorciada', '3', 'femenino', '3.7', 'Region_2')\n",
            "('41', 'Profesional', 'soltera', '2', 'masculino', '3.0', 'Region_4')\n",
            "('56', 'Secundaria', 'casada', '5', 'femenino', '2.4', 'Region_4')\n",
            "('71', 'Profesional', 'soltera', '3', 'femenino', '2.2', 'Region_4')\n",
            "('54', 'Secundaria', 'soltera', '2', 'femenino', '3.0', 'Region_2')\n",
            "('58', 'Maestria', 'casada', '1', 'masculino', '3.0', 'Region_4')\n",
            "('79', 'Secundaria', 'casada', '3', 'femenino', '3.5', 'Region_2')\n",
            "('30', 'Secundaria', 'casada', '4', 'masculino', '0.9', 'Region_5')\n",
            "('75', 'Secundaria', 'viuda', '3', 'no binario', '3.5', 'Region_1')\n",
            "('45', 'Secundaria', 'soltera', '2', 'femenino', '2.7', 'Region_3')\n",
            "('38', 'Secundaria', 'divorciada', '2', 'femenino', '3.0', 'Region_1')\n",
            "('55', 'Secundaria', 'soltera', '1', 'masculino', '3.7', 'Region_1')\n",
            "('24', 'Primaria', 'casada', '3', 'femenino', '1.0', 'Region_3')\n",
            "('68', 'Profesional', 'casada', '3', 'femenino', '3.0', 'Region_2')\n",
            "('30', 'Secundaria', 'divorciada', '2', 'femenino', '4.4', 'Region_4')\n",
            "('24', 'Profesional', 'divorciada', '1', 'femenino', '0.9', 'Region_2')\n",
            "('52', 'Secundaria', 'casada', '3', 'femenino', '2.7', 'Region_4')\n",
            "('29', 'Profesional', 'soltera', '3', 'masculino', '3.6', 'Region_1')\n",
            "('76', 'Profesional', 'soltera', '3', 'masculino', '2.5', 'Region_2')\n",
            "('25', 'Profesional', 'soltera', '1', 'no binario', '2.2', 'Region_2')\n",
            "('58', 'Secundaria', 'soltera', '2', 'femenino', '3.6', 'Region_1')\n",
            "('65', 'Profesional', 'soltera', '2', 'masculino', '1.9', 'Region_4')\n",
            "('53', 'Profesional', 'casada', '3', 'femenino', '3.1', 'Region_4')\n",
            "('64', 'Secundaria', 'soltera', '1', 'no binario', '0.2', 'Region_2')\n",
            "('32', 'Profesional', 'soltera', '1', 'femenino', '3.1', 'Region_4')\n",
            "('74', 'Profesional', 'soltera', '3', 'masculino', '4.0', 'Region_4')\n",
            "('18', 'Secundaria', 'casada', '4', 'masculino', '2.3', 'Region_3')\n",
            "('52', 'Maestria', 'viuda', '1', 'femenino', '3.8', 'Region_1')\n",
            "('48', 'Profesional', 'divorciada', '2', 'femenino', '1.3', 'Region_3')\n",
            "('65', 'Profesional', 'casada', '3', 'femenino', '3.5', 'Region_4')\n",
            "('42', 'Secundaria', 'divorciada', '4', 'femenino', '1.2', 'Region_2')\n",
            "('77', 'Secundaria', 'viuda', '3', 'femenino', '2.6', 'Region_2')\n",
            "('31', 'Profesional', 'casada', '3', 'femenino', '3.2', 'Region_4')\n",
            "('63', 'Secundaria', 'soltera', '3', 'masculino', '2.6', 'Region_1')\n",
            "('35', 'Profesional', 'casada', '2', 'femenino', '1.9', 'Region_4')\n",
            "('48', 'Secundaria', 'soltera', '2', 'masculino', '3.0', 'Region_1')\n",
            "('71', 'Primaria', 'casada', '2', 'masculino', '3.7', 'Region_1')\n",
            "('48', 'Secundaria', 'divorciada', '1', 'femenino', '3.6', 'Region_4')\n",
            "('70', 'Secundaria', 'casada', '3', 'masculino', '1.1', 'Region_2')\n",
            "('57', 'Primaria', 'divorciada', '1', 'femenino', '2.8', 'Region_4')\n",
            "('32', 'Primaria', 'soltera', '1', 'masculino', '2.0', 'Region_4')\n",
            "('45', 'Maestria', 'casada', '3', 'femenino', '3.2', 'Region_4')\n",
            "('68', 'Secundaria', 'casada', '2', 'masculino', '3.5', 'Region_1')\n",
            "('23', 'Profesional', 'divorciada', '2', 'femenino', '4.0', 'Region_2')\n",
            "('26', 'Secundaria', 'soltera', '2', 'masculino', '3.6', 'Region_1')\n",
            "('37', 'Secundaria', 'soltera', '3', 'masculino', '2.3', 'Region_1')\n",
            "('34', 'Secundaria', 'soltera', '2', 'femenino', '3.0', 'Region_4')\n",
            "('27', 'Secundaria', 'casada', '2', 'masculino', '3.6', 'Region_4')\n",
            "('49', 'Profesional', 'casada', '2', 'femenino', '1.9', 'Region_3')\n",
            "('57', 'Secundaria', 'divorciada', '3', 'femenino', '0.6', 'Region_2')\n",
            "('42', 'Secundaria', 'soltera', '2', 'masculino', '2.0', 'Region_1')\n",
            "('67', 'Secundaria', 'casada', '2', 'femenino', '0.6', 'Region_2')\n",
            "('70', 'Secundaria', 'soltera', '2', 'femenino', '0.9', 'Region_4')\n",
            "('59', 'Profesional', 'divorciada', '1', 'no binario', '3.3', 'Region_2')\n",
            "('29', 'Secundaria', 'soltera', '3', 'femenino', '2.1', 'Region_1')\n",
            "('20', 'Secundaria', 'soltera', '2', 'masculino', '2.7', 'Region_1')\n",
            "('42', 'Secundaria', 'divorciada', '4', 'femenino', '2.5', 'Region_4')\n",
            "('18', 'Secundaria', 'divorciada', '5', 'masculino', '2.9', 'Region_4')\n",
            "('48', 'Primaria', 'casada', '2', 'femenino', '3.5', 'Region_4')\n",
            "('41', 'Secundaria', 'casada', '2', 'femenino', '2.9', 'Region_4')\n",
            "('77', 'Secundaria', 'soltera', '5', 'masculino', '1.6', 'Region_4')\n",
            "('68', 'Maestria', 'soltera', '2', 'femenino', '4.4', 'Region_2')\n",
            "('79', 'Secundaria', 'divorciada', '2', 'femenino', '3.9', 'Region_1')\n",
            "('49', 'Secundaria', 'casada', '1', 'masculino', '3.5', 'Region_4')\n",
            "('24', 'Secundaria', 'casada', '3', 'masculino', '3.2', 'Region_1')\n",
            "('24', 'Secundaria', 'casada', '1', 'femenino', '2.0', 'Region_1')\n",
            "('23', 'Profesional', 'soltera', '5', 'femenino', '2.2', 'Region_2')\n",
            "('73', 'Profesional', 'divorciada', '1', 'no binario', '4.0', 'Region_2')\n",
            "('27', 'Secundaria', 'casada', '3', 'masculino', '2.9', 'Region_4')\n",
            "('32', 'Secundaria', 'casada', '1', 'femenino', '4.9', 'Region_2')\n",
            "('80', 'Secundaria', 'soltera', '4', 'masculino', '2.6', 'Region_3')\n",
            "('39', 'Profesional', 'casada', '3', 'masculino', '2.2', 'Region_4')\n",
            "('74', 'Profesional', 'divorciada', '2', 'femenino', '3.8', 'Region_1')\n",
            "('47', 'Profesional', 'divorciada', '2', 'femenino', '3.7', 'Region_4')\n",
            "('44', 'Profesional', 'soltera', '1', 'femenino', '3.6', 'Region_2')\n",
            "('54', 'Secundaria', 'divorciada', '2', 'no binario', '3.0', 'Region_4')\n",
            "('46', 'Profesional', 'divorciada', '2', 'femenino', '3.4', 'Region_2')\n",
            "('77', 'Profesional', 'casada', '4', 'masculino', '2.6', 'Region_2')\n",
            "('55', 'Secundaria', 'divorciada', '4', 'masculino', '2.0', 'Region_4')\n",
            "('34', 'Secundaria', 'soltera', '3', 'otro', '2.4', 'Region_1')\n",
            "('74', 'Profesional', 'soltera', '3', 'masculino', '3.9', 'Region_1')\n",
            "('21', 'Secundaria', 'casada', '3', 'no binario', '1.5', 'Region_5')\n",
            "('69', 'Secundaria', 'soltera', '1', 'masculino', '5.0', 'Region_2')\n",
            "('69', 'Secundaria', 'casada', '1', 'femenino', '3.9', 'Region_4')\n",
            "('62', 'Secundaria', 'divorciada', '4', 'femenino', '3.7', 'Region_1')\n",
            "('35', 'Secundaria', 'casada', '3', 'masculino', '1.2', 'Region_4')\n",
            "('21', 'Primaria', 'divorciada', '2', 'masculino', '1.8', 'Region_4')\n",
            "('24', 'Secundaria', 'soltera', '1', 'masculino', '0.4', 'Region_1')\n",
            "('75', 'Secundaria', 'divorciada', '2', 'femenino', '2.5', 'Region_2')\n",
            "('67', 'Secundaria', 'divorciada', '3', 'femenino', '0.0', 'Region_4')\n",
            "('71', 'Secundaria', 'casada', '4', 'masculino', '3.4', 'Region_2')\n",
            "('49', 'Secundaria', 'soltera', '1', 'masculino', '4.7', 'Region_2')\n",
            "('28', 'Secundaria', 'divorciada', '2', 'femenino', '3.6', 'Region_2')\n",
            "('56', 'Secundaria', 'casada', '1', 'masculino', '2.0', 'Region_1')\n",
            "('58', 'Secundaria', 'soltera', '2', 'masculino', '2.2', 'Region_1')\n",
            "('68', 'Profesional', 'casada', '4', 'masculino', '1.7', 'Region_1')\n",
            "('42', 'Secundaria', 'divorciada', '2', 'femenino', '3.1', 'Region_1')\n",
            "('60', 'Primaria', 'casada', '3', 'masculino', '2.4', 'Region_2')\n",
            "('44', 'Primaria', 'divorciada', '4', 'masculino', '3.1', 'Region_1')\n",
            "('37', 'Secundaria', 'casada', '4', 'femenino', '0.0', 'Region_1')\n",
            "('69', 'Profesional', 'divorciada', '4', 'masculino', '4.8', 'Region_1')\n",
            "('75', 'Secundaria', 'casada', '2', 'masculino', '2.7', 'Region_1')\n",
            "('27', 'Primaria', 'soltera', '2', 'femenino', '1.1', 'Region_2')\n",
            "('57', 'Secundaria', 'soltera', '3', 'femenino', '3.5', 'Region_2')\n",
            "('52', 'Secundaria', 'casada', '1', 'masculino', '4.3', 'Region_1')\n",
            "('22', 'Secundaria', 'divorciada', '3', 'femenino', '1.0', 'Region_4')\n",
            "('76', 'Profesional', 'soltera', '3', 'no binario', '3.7', 'Region_1')\n",
            "('48', 'Secundaria', 'soltera', '2', 'masculino', '2.1', 'Region_4')\n",
            "('78', 'Secundaria', 'casada', '3', 'masculino', '1.8', 'Region_2')\n",
            "('79', 'Profesional', 'casada', '2', 'masculino', '3.2', 'Region_2')\n",
            "('28', 'Secundaria', 'casada', '4', 'femenino', '2.2', 'Region_1')\n",
            "('50', 'Profesional', 'casada', '2', 'femenino', '0.1', 'Region_1')\n",
            "('35', 'Secundaria', 'divorciada', '1', 'femenino', '1.6', 'Region_2')\n",
            "('66', 'Secundaria', 'soltera', '2', 'femenino', '3.0', 'Region_1')\n",
            "('66', 'Profesional', 'divorciada', '3', 'masculino', '2.8', 'Region_4')\n",
            "('58', 'Secundaria', 'divorciada', '2', 'femenino', '4.5', 'Region_1')\n",
            "('22', 'Secundaria', 'casada', '2', 'masculino', '2.0', 'Region_3')\n",
            "('23', 'Secundaria', 'divorciada', '3', 'femenino', '1.0', 'Region_2')\n",
            "('74', 'Secundaria', 'soltera', '1', 'masculino', '1.0', 'Region_1')\n",
            "('38', 'Secundaria', 'soltera', '2', 'no binario', '2.9', 'Region_4')\n",
            "('31', 'Primaria', 'casada', '3', 'femenino', '1.5', 'Region_4')\n",
            "('39', 'Secundaria', 'soltera', '2', 'femenino', '1.2', 'Region_4')\n",
            "('55', 'Secundaria', 'casada', '3', 'masculino', '3.2', 'Region_1')\n",
            "('18', 'Secundaria', 'casada', '2', 'femenino', '0.2', 'Region_5')\n",
            "('66', 'Primaria', 'casada', '3', 'masculino', '2.1', 'Region_2')\n",
            "('30', 'Secundaria', 'casada', '2', 'masculino', '2.5', 'Region_4')\n",
            "('57', 'Secundaria', 'casada', '3', 'masculino', '1.9', 'Region_1')\n",
            "('28', 'Secundaria', 'divorciada', '1', 'masculino', '2.9', 'Region_1')\n",
            "('50', 'Secundaria', 'soltera', '1', 'masculino', '4.2', 'Region_3')\n",
            "('24', 'Secundaria', 'casada', '3', 'no binario', '0.5', 'Region_4')\n",
            "('76', 'Secundaria', 'divorciada', '2', 'masculino', '0.2', 'Region_1')\n",
            "('18', 'Secundaria', 'casada', '2', 'masculino', '0.6', 'Region_2')\n",
            "('44', 'Profesional', 'divorciada', '2', 'femenino', '3.1', 'Region_2')\n",
            "('80', 'Primaria', 'casada', '1', 'no binario', '3.1', 'Region_1')\n",
            "('54', 'Profesional', 'casada', '3', 'masculino', '4.2', 'Region_1')\n",
            "('43', 'Profesional', 'soltera', '3', 'femenino', '2.7', 'Region_2')\n",
            "('50', 'Secundaria', 'casada', '2', 'femenino', '3.0', 'Region_2')\n",
            "('79', 'Secundaria', 'casada', '5', 'masculino', '1.0', 'Region_1')\n",
            "('67', 'Secundaria', 'soltera', '2', 'masculino', '2.5', 'Region_4')\n",
            "('63', 'Secundaria', 'casada', '3', 'femenino', '4.0', 'Region_4')\n",
            "('53', 'Secundaria', 'soltera', '1', 'masculino', '4.0', 'Region_4')\n",
            "('71', 'Secundaria', 'casada', '1', 'masculino', '0.3', 'Region_4')\n",
            "('19', 'Secundaria', 'casada', '3', 'masculino', '0.3', 'Region_4')\n",
            "('38', 'Secundaria', 'soltera', '3', 'masculino', '2.9', 'Region_4')\n",
            "('53', 'Profesional', 'casada', '2', 'no binario', '2.1', 'Region_4')\n",
            "('65', 'Profesional', 'casada', '3', 'femenino', '2.0', 'Region_4')\n",
            "('20', 'Secundaria', 'soltera', '2', 'masculino', '2.5', 'Region_2')\n",
            "('45', 'Secundaria', 'divorciada', '1', 'masculino', '1.1', 'Region_1')\n",
            "('25', 'Maestria', 'casada', '3', 'femenino', '3.6', 'Region_4')\n",
            "('75', 'Secundaria', 'soltera', '3', 'masculino', '3.1', 'Region_4')\n",
            "('66', 'Profesional', 'soltera', '1', 'femenino', '3.1', 'Region_1')\n",
            "('25', 'Maestria', 'casada', '2', 'femenino', '1.7', 'Region_1')\n",
            "('24', 'Secundaria', 'divorciada', '2', 'masculino', '3.0', 'Region_4')\n",
            "('33', 'Secundaria', 'casada', '2', 'femenino', '3.5', 'Region_1')\n",
            "('43', 'Profesional', 'casada', '3', 'femenino', '1.3', 'Region_4')\n",
            "('66', 'Secundaria', 'casada', '2', 'femenino', '1.7', 'Region_2')\n",
            "('33', 'Profesional', 'divorciada', '3', 'femenino', '3.4', 'Region_4')\n",
            "('46', 'Secundaria', 'soltera', '1', 'femenino', '3.2', 'Region_1')\n",
            "('53', 'Secundaria', 'casada', '2', 'masculino', '4.5', 'Region_1')\n",
            "('36', 'Profesional', 'casada', '3', 'femenino', '4.2', 'Region_4')\n",
            "('50', 'Secundaria', 'casada', '3', 'masculino', '4.1', 'Region_4')\n",
            "('76', 'Secundaria', 'soltera', '1', 'femenino', '3.5', 'Region_4')\n",
            "('80', 'Secundaria', 'divorciada', '2', 'otro', '3.0', 'Region_5')\n",
            "('74', 'Profesional', 'soltera', '1', 'masculino', '0.1', 'Region_2')\n",
            "('64', 'Secundaria', 'casada', '2', 'masculino', '3.8', 'Region_1')\n",
            "('22', 'Profesional', 'divorciada', '2', 'no binario', '0.2', 'Region_1')\n",
            "('41', 'Secundaria', 'soltera', '1', 'femenino', '3.4', 'Region_4')\n",
            "('20', 'Profesional', 'casada', '5', 'femenino', '2.0', 'Region_4')\n",
            "('75', 'Maestria', 'viuda', '1', 'femenino', '3.3', 'Region_4')\n",
            "('54', 'Secundaria', 'casada', '2', 'masculino', '1.9', 'Region_2')\n",
            "('72', 'Secundaria', 'casada', '3', 'masculino', '0.7', 'Region_4')\n",
            "('38', 'Secundaria', 'casada', '2', 'masculino', '1.3', 'Region_1')\n",
            "('24', 'Secundaria', 'soltera', '1', 'femenino', '3.7', 'Region_4')\n",
            "('67', 'Secundaria', 'soltera', '3', 'no binario', '3.5', 'Region_4')\n",
            "('32', 'Secundaria', 'casada', '1', 'femenino', '2.3', 'Region_4')\n",
            "('50', 'Secundaria', 'viuda', '3', 'femenino', '2.7', 'Region_4')\n",
            "('35', 'Secundaria', 'divorciada', '3', 'femenino', '3.4', 'Region_4')\n",
            "('21', 'Secundaria', 'soltera', '3', 'masculino', '4.9', 'Region_2')\n",
            "('54', 'Profesional', 'divorciada', '3', 'masculino', '3.7', 'Region_2')\n",
            "('64', 'Secundaria', 'casada', '2', 'masculino', '1.8', 'Region_4')\n",
            "('29', 'Secundaria', 'casada', '2', 'masculino', '2.4', 'Region_4')\n",
            "('29', 'Secundaria', 'soltera', '2', 'masculino', '3.2', 'Region_4')\n",
            "('38', 'Secundaria', 'casada', '2', 'masculino', '0.6', 'Region_1')\n",
            "('47', 'Secundaria', 'divorciada', '3', 'masculino', '3.4', 'Region_4')\n",
            "('27', 'Secundaria', 'casada', '2', 'femenino', '4.6', 'Region_5')\n",
            "('73', 'Secundaria', 'casada', '3', 'femenino', '3.2', 'Region_4')\n",
            "('26', 'Secundaria', 'viuda', '1', 'masculino', '2.2', 'Region_1')\n",
            "('69', 'Secundaria', 'soltera', '4', 'femenino', '2.2', 'Region_2')\n",
            "('35', 'Secundaria', 'divorciada', '2', 'masculino', '3.5', 'Region_4')\n",
            "('70', 'Secundaria', 'divorciada', '3', 'masculino', '2.2', 'Region_1')\n",
            "('25', 'Profesional', 'soltera', '3', 'femenino', '1.4', 'Region_2')\n",
            "('19', 'Secundaria', 'soltera', '2', 'femenino', '0.1', 'Region_4')\n",
            "('80', 'Secundaria', 'soltera', '2', 'femenino', '3.1', 'Region_1')\n",
            "('60', 'Primaria', 'soltera', '3', 'femenino', '0.2', 'Region_2')\n",
            "('39', 'Secundaria', 'soltera', '3', 'masculino', '3.3', 'Region_5')\n",
            "('76', 'Secundaria', 'casada', '1', 'masculino', '3.7', 'Region_4')\n",
            "('34', 'Secundaria', 'casada', '3', 'masculino', '2.0', 'Region_1')\n",
            "('59', 'Profesional', 'casada', '2', 'masculino', '4.9', 'Region_4')\n",
            "('49', 'Profesional', 'casada', '2', 'masculino', '3.4', 'Region_1')\n",
            "('23', 'Secundaria', 'divorciada', '1', 'masculino', '0.8', 'Region_1')\n",
            "('34', 'Secundaria', 'soltera', '1', 'masculino', '2.4', 'Region_4')\n",
            "('23', 'Secundaria', 'casada', '5', 'femenino', '2.1', 'Region_4')\n",
            "('24', 'Secundaria', 'viuda', '1', 'femenino', '2.9', 'Region_1')\n",
            "('50', 'Profesional', 'casada', '1', 'no binario', '2.1', 'Region_1')\n",
            "('54', 'Secundaria', 'divorciada', '2', 'femenino', '2.7', 'Region_1')\n",
            "('66', 'Secundaria', 'casada', '2', 'femenino', '3.0', 'Region_2')\n"
          ]
        }
      ],
      "source": [
        "# Implementa tu respuesta en esta celda\n",
        "archivo = open(\"/edad.txt\",\"r\",encoding=\"UTF-8\")\n",
        "edad=[]\n",
        "for linea in archivo:\n",
        "  edad.append(linea.strip())\n",
        "archivos = open(\"/escolaridad.txt\",\"r\",encoding=\"UTF-8\")\n",
        "escolaridad=[]\n",
        "for linea in archivos:\n",
        "  escolaridad.append(linea.strip())\n",
        "archivo = open(\"/estado_civil.txt\",\"r\",encoding=\"UTF-8\")\n",
        "estad=[]\n",
        "for linea in archivo:\n",
        "  estad.append(linea.strip())\n",
        "archivo = open(\"/estrato.txt\",\"r\",encoding=\"UTF-8\")\n",
        "estrato=[]\n",
        "for linea in archivo:\n",
        "  estrato.append(linea.strip())\n",
        "archivo = open(\"/genero.txt\",\"r\",encoding=\"UTF-8\")\n",
        "genero=[]\n",
        "for linea in archivo:\n",
        "  genero.append(linea.strip())\n",
        "archivo = open(\"/promedio.txt\",\"r\",encoding=\"UTF-8\")\n",
        "promedio=[]\n",
        "for linea in archivo:\n",
        "  promedio.append(linea.strip())\n",
        "archivo = open(\"/region.txt\",\"r\",encoding=\"UTF-8\")\n",
        "region=[]\n",
        "for linea in archivo:\n",
        "  region.append(linea.strip())\n",
        "a=0\n",
        "for i in range(499):\n",
        "  a=a+1\n",
        "  tuple=(edad[a],escolaridad[a],estad[a],estrato[a],genero[a],promedio[a],region[a])\n",
        "  print(tuple)\n",
        "\n",
        "  \n",
        "\n",
        "    \n",
        "    \n",
        "\n",
        " \n",
        "    "
      ]
    },
    {
      "cell_type": "markdown",
      "metadata": {
        "id": "hmO6lMy0Toaj"
      },
      "source": [
        "### Misión 2"
      ]
    },
    {
      "cell_type": "markdown",
      "metadata": {
        "id": "l4M7AA2mToaj"
      },
      "source": [
        "**Versión base**: calcula estadísticas descriptivas básicas (por lo menos, media/mediana y varianza/desviación) para cada variable relevante en el contexto del problema y repórtalas concluyendo acerca de las principales características de los datos."
      ]
    },
    {
      "cell_type": "markdown",
      "metadata": {
        "id": "db3KE71rToaj"
      },
      "source": [
        "**Versión completa**: complementa la **versión base** con visualizaciones informativas sobre los datos (ej., histogramas, gráficos de dispersión, boxplots, etc.), relevantes para el problema."
      ]
    },
    {
      "cell_type": "code",
      "execution_count": 2,
      "metadata": {
        "id": "uxwlGyWKToaj"
      },
      "outputs": [],
      "source": [
        "# Implementa tu respuesta en esta celda\n",
        "from cmath import sqrt\n",
        "\n",
        "\n",
        "def estadistica_descriptiva(lista:list):\n",
        "  cantidad=len(lista)\n",
        "  promedio=sum(lista)/cantidad\n",
        "  data=lista.sort()\n",
        "  desviacion=[(x-promedio)**2 for x in lista]\n",
        "  varianza=sum(desviacion)/cantidad\n",
        "  destantadar=sqrt(varianza)\n",
        "  mediana=0\n",
        "\n",
        "  if (cantidad%2==1):\n",
        "    mediana=data[cantidad/2]\n",
        "  else:\n",
        "    mediana=(data[cantidad//2]+data[(cantidad//2)-1])\n",
        "  \n",
        "\n",
        "  return cantidad,promedio,mediana,destantadar\n"
      ]
    },
    {
      "cell_type": "markdown",
      "metadata": {
        "id": "dR-wbn1zToak"
      },
      "source": [
        "## Referencias"
      ]
    },
    {
      "cell_type": "markdown",
      "metadata": {
        "id": "zVvd2aCFToak"
      },
      "source": [
        "* Discriminación Positiva<br>\n",
        "https://es.wikipedia.org/wiki/Discriminaci%C3%B3n_positiva\n",
        "* Análisis de formulación del programa “Ser Pilo Paga”<br>\n",
        "https://repository.urosario.edu.co/handle/10336/12526\n",
        "* La acción afirmativa en la Universidad de los Andes: El caso del programa \"Oportunidades para talentos nacionales\"<br> http://www.scielo.org.co/scielo.php?script=sci_arttext&pid=S0123-885X2004000300005\n",
        "* Acción afirmativa y equidad: un análisis desde la propuesta de Thomas Nagel<br>\n",
        "http://www.scielo.org.mx/scielo.php?script=sci_arttext&pid=S2007-24062016000200049"
      ]
    },
    {
      "cell_type": "markdown",
      "metadata": {
        "id": "IDbdXYw2Toak"
      },
      "source": [
        "## Créditos"
      ]
    },
    {
      "cell_type": "markdown",
      "metadata": {
        "id": "LfTyn6OlToak"
      },
      "source": [
        "__Autores__: Camilo Hernando Gómez Castro, Alejandro Mantilla Redondo, Diego Alejandro Cely Gómez.\n",
        " \n",
        "__Fecha última actualización__: 11/07/2022"
      ]
    }
  ],
  "metadata": {
    "kernelspec": {
      "display_name": "Python 3.10.3 64-bit",
      "language": "python",
      "name": "python3"
    },
    "language_info": {
      "codemirror_mode": {
        "name": "ipython",
        "version": 3
      },
      "file_extension": ".py",
      "mimetype": "text/x-python",
      "name": "python",
      "nbconvert_exporter": "python",
      "pygments_lexer": "ipython3",
      "version": "3.10.3"
    },
    "vscode": {
      "interpreter": {
        "hash": "8b8193576751691e149fe4b02bd81acb44aebb7039077c15be9d1f0082e2f63d"
      }
    },
    "colab": {
      "provenance": []
    }
  },
  "nbformat": 4,
  "nbformat_minor": 0
}